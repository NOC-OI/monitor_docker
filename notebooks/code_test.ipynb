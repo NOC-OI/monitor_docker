{
 "cells": [
  {
   "cell_type": "code",
   "execution_count": 4,
   "id": "bfe319f2-fa25-4ec0-badd-7dd860fe92bb",
   "metadata": {},
   "outputs": [
    {
     "name": "stdout",
     "output_type": "stream",
     "text": [
      "The autoreload extension is already loaded. To reload it, use:\n",
      "  %reload_ext autoreload\n"
     ]
    }
   ],
   "source": [
    "%load_ext autoreload\n",
    "%autoreload 2"
   ]
  },
  {
   "cell_type": "code",
   "execution_count": 8,
   "id": "7cc00f28-953f-4883-9a28-230290637d6a",
   "metadata": {},
   "outputs": [],
   "source": [
    "from monitor_docker.monitor_docker import MonitorDocker"
   ]
  },
  {
   "cell_type": "code",
   "execution_count": 10,
   "id": "aac694c1",
   "metadata": {},
   "outputs": [
    {
     "name": "stdout",
     "output_type": "stream",
     "text": [
      "[{'name': 'api_calculations_use_cases', 'image': 'docker-repo.bodc.me/oceaninfo/imfe-pilot/api_calculations_use_cases_web:latest', 'port': '8081'}, {'name': 'tile-server', 'image': 'docker-repo.bodc.me/oceaninfo/imfe-pilot/titiler-uvicorn:latest', 'port': '8083'}, {'name': 'mbtiles', 'image': 'docker-repo.bodc.me/oceaninfo/imfe-pilot/mbtiles:latest', 'port': '8082'}, {'name': 'frontend', 'image': 'docker-repo.bodc.me/oceaninfo/imfe-pilot/frontend:latest', 'port': '8080'}]\n",
      "SUCCESS: Thu Sep 28 10:10:27 2023 - Everything correct\n"
     ]
    }
   ],
   "source": [
    "m = MonitorDocker(information_path='../', status_path='../data/')\n",
    "m.check_containers(send_email=False)"
   ]
  },
  {
   "cell_type": "code",
   "execution_count": 6,
   "id": "7bc81b20-a6ec-4b23-afe4-13a445061a2d",
   "metadata": {},
   "outputs": [],
   "source": [
    "import time"
   ]
  },
  {
   "cell_type": "code",
   "execution_count": 13,
   "id": "00834d10-8966-4107-afef-4618805969d0",
   "metadata": {},
   "outputs": [],
   "source": [
    "time_now = time.ctime()\n",
    "subject = 'Problems with container:'"
   ]
  },
  {
   "cell_type": "code",
   "execution_count": 14,
   "id": "4f7b0099-4e92-4a6d-a4e9-6ffe5eb1f093",
   "metadata": {},
   "outputs": [
    {
     "name": "stdout",
     "output_type": "stream",
     "text": [
      "SUCCESS: Mon Sep 18 11:36:14 2023 - Everything correct\n",
      "SUCCESS: Mon Sep 18 11:36:14 2023 - Everything correct\n",
      "SUCCESS: Mon Sep 18 11:36:14 2023 - Everything correct\n",
      "SUCCESS: Mon Sep 18 11:36:14 2023 - Everything correct\n",
      "SUCCESS: Mon Sep 18 11:36:14 2023 - Everything correct\n",
      "SUCCESS: Mon Sep 18 11:36:14 2023 - Everything correct\n",
      "SUCCESS: Mon Sep 18 11:36:14 2023 - Everything correct\n",
      "SUCCESS: Mon Sep 18 11:36:14 2023 - Everything correct\n",
      "SUCCESS: Mon Sep 18 11:36:14 2023 - Everything correct\n",
      "ERROR: Mon Sep 18 11:36:14 2023 - Problems with container:\n"
     ]
    }
   ],
   "source": [
    "for i in range(10):\n",
    "    if i == 9:\n",
    "        print(f\"ERROR: {time_now} - {subject}\")\n",
    "    else:\n",
    "        print(f\"SUCCESS: {time_now} - Everything correct\")"
   ]
  },
  {
   "cell_type": "code",
   "execution_count": 39,
   "id": "2fc26ba1-c035-4af8-b6f2-cb3cbc735945",
   "metadata": {},
   "outputs": [],
   "source": [
    "f = open(\"../data/cron.log\", \"r\")"
   ]
  },
  {
   "cell_type": "code",
   "execution_count": 40,
   "id": "e5338d86-b2a7-4f91-bd01-04d52abb457c",
   "metadata": {},
   "outputs": [
    {
     "data": {
      "text/plain": [
       "'ERROR: Mon Sep 18 11:36:14 2023 - Problems with container:'"
      ]
     },
     "execution_count": 40,
     "metadata": {},
     "output_type": "execute_result"
    }
   ],
   "source": [
    "log = f.read().split('\\n')[-1]\n",
    "log"
   ]
  },
  {
   "cell_type": "code",
   "execution_count": 29,
   "id": "ce8aa137-6067-480a-9af9-eb42d69d3d00",
   "metadata": {},
   "outputs": [
    {
     "data": {
      "text/plain": [
       "True"
      ]
     },
     "execution_count": 29,
     "metadata": {},
     "output_type": "execute_result"
    }
   ],
   "source": [
    "log[:5] == 'ERROR'"
   ]
  },
  {
   "cell_type": "code",
   "execution_count": 48,
   "id": "32e54765-04c8-4141-8159-c39069833fc7",
   "metadata": {},
   "outputs": [],
   "source": [
    "log = ''"
   ]
  },
  {
   "cell_type": "code",
   "execution_count": 37,
   "id": "9c48fb99-3786-4934-b13d-42283eb84c6c",
   "metadata": {},
   "outputs": [
    {
     "data": {
      "text/plain": [
       "False"
      ]
     },
     "execution_count": 37,
     "metadata": {},
     "output_type": "execute_result"
    }
   ],
   "source": [
    "log.startswith('ERROR')"
   ]
  },
  {
   "cell_type": "code",
   "execution_count": 49,
   "id": "9cbabbe4-6115-4f5a-a23f-9ec6e7261851",
   "metadata": {},
   "outputs": [
    {
     "data": {
      "text/plain": [
       "''"
      ]
     },
     "execution_count": 49,
     "metadata": {},
     "output_type": "execute_result"
    }
   ],
   "source": [
    "log.split('-')[-1].strip()"
   ]
  },
  {
   "cell_type": "code",
   "execution_count": null,
   "id": "e4bc1bbe-a88f-463d-8515-9e1a1b344e8a",
   "metadata": {},
   "outputs": [],
   "source": []
  }
 ],
 "metadata": {
  "kernelspec": {
   "display_name": "Python 3 (ipykernel)",
   "language": "python",
   "name": "python3"
  },
  "language_info": {
   "codemirror_mode": {
    "name": "ipython",
    "version": 3
   },
   "file_extension": ".py",
   "mimetype": "text/x-python",
   "name": "python",
   "nbconvert_exporter": "python",
   "pygments_lexer": "ipython3",
   "version": "3.8.12"
  }
 },
 "nbformat": 4,
 "nbformat_minor": 5
}
